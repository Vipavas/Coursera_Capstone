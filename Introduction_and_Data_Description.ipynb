{
 "cells": [
  {
   "cell_type": "markdown",
   "id": "38383ae7",
   "metadata": {},
   "source": [
    "# Capstone Project - The Battle of the Neighborhoods (Week 1)"
   ]
  },
  {
   "cell_type": "markdown",
   "id": "7aebd0b5",
   "metadata": {},
   "source": [
    "## Introduction: Business Problem"
   ]
  },
  {
   "cell_type": "markdown",
   "id": "7ffdd8c3",
   "metadata": {},
   "source": [
    "Bangkok is the capital city of Thailand with a population of over 10 million. Bangkok is the top 7th city in Asia from World’s Best Awards survey, Travel + Leisure. Bangkok is a city that attracts investors who want to invest in Thailand. Specially, we will focus on restuarant and food service industry. \n",
    "\n",
    "The purpose of this project is to **help entrepreneurs for exploring ideas and cuisine styles** for opening a restaurant. Specifically, this project will be targeted at stakeholders interested in opening a restaurant in **Bangkok**, Thailand. \n",
    "\n",
    "It will help people making **smart and efficient decisions** on selecting a great district and cuisine style for opening a restaurant in Bangkok.\n",
    "\n",
    "Along the line of Business Strategies, it was decided that the **Unsupervised Machine Learning** technique could be applied to analyze and uncover insights valuable to influencing the formulation of the Client’s business strategies. Specifically, **K-Means clustering** will be applied onto the relevant restaurants’ geospatial data to cluster these entities and uncover insights such as viable restaurant themes and suitable restaurant locations.\n"
   ]
  },
  {
   "cell_type": "markdown",
   "id": "329f5f42",
   "metadata": {},
   "source": [
    "## Data Description"
   ]
  },
  {
   "cell_type": "markdown",
   "id": "238e1906",
   "metadata": {},
   "source": [
    "Data Link: https://en.wikipedia.org/wiki/List_of_districts_of_Bangkok\n",
    "\n",
    "We will use the list of districts of Bangkok data, which contains the list of districts, map nr, post-code, district's name in Thai, population, no. of sub-districts, latitude and longitude. "
   ]
  },
  {
   "cell_type": "markdown",
   "id": "90e1df79",
   "metadata": {},
   "source": [
    "We will need data about different venues in different districts. In order to gain that information we will use \"Foursquare\" locational information. Foursquare is a location data provider with information about all manner of venues and events within an area of interest. Such information includes venue names, locations, menus and even photos. As such, the foursquare location platform will be used as the sole data source since all the stated required information can be obtained through the API.\n",
    "\n",
    "After finding the list of districts, we then connect to the Foursquare API to gather information about venues inside each and every district. For each district, we have chosen the radius to be 500 meter.\n",
    "\n",
    "The data retrieved from Foursquare contained information of venues within a specified distance of the longitude and latitude of the postcodes. The information obtained per venue as follows:\n",
    "\n",
    "1. Districts\n",
    "2. District's Latitude\n",
    "3. District's Longitude\n",
    "4. Venues\n",
    "5. Name of the venue e.g. the name of a store or restaurant\n",
    "6. Venue's Latitude\n",
    "7. Venue's Longitude\n",
    "8. Venue's Category"
   ]
  }
 ],
 "metadata": {
  "kernelspec": {
   "display_name": "Python 3",
   "language": "python",
   "name": "python3"
  },
  "language_info": {
   "codemirror_mode": {
    "name": "ipython",
    "version": 3
   },
   "file_extension": ".py",
   "mimetype": "text/x-python",
   "name": "python",
   "nbconvert_exporter": "python",
   "pygments_lexer": "ipython3",
   "version": "3.8.3"
  }
 },
 "nbformat": 4,
 "nbformat_minor": 5
}
